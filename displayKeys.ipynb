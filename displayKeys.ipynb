{
 "cells": [
  {
   "cell_type": "code",
   "execution_count": null,
   "id": "67effe43-734c-4e44-aaab-6324cfb95a29",
   "metadata": {},
   "outputs": [],
   "source": [
    "import shelve\n",
    "import hashlib\n",
    "class Node:\n",
    "    def __init__(self, key, f):\n",
    "        self.key = key  \n",
    "        self.f = f \n",
    "    \n",
    "    def __lt__(self, obj):\n",
    "        return ((self.f) > (obj.f))\n",
    "  \n",
    "    def __gt__(self, obj):\n",
    "        return ((self.f) < (obj.f))\n",
    "  \n",
    "    def __le__(self, obj):\n",
    "        return ((self.f) >= (obj.f))\n",
    "  \n",
    "    def __ge__(self, obj):\n",
    "        return ((self.f) <= (obj.f))\n",
    "  \n",
    "    def __eq__(self, obj):\n",
    "        return (self.f == obj.f)\n",
    "def getChildrenKeys(parent_key,seed):\n",
    "    return [parent_key + '_' + str(i)  for i in range(seed)]\n",
    "def addSortFrontier(pq,newNode):\n",
    "    pq.append(newNode)\n",
    "    temp = sorted(pq)\n",
    "    return temp\n",
    "\n",
    "def getHash(mystr):\n",
    "    coded =  mystr.encode()\n",
    "    return hashlib.sha256(coded).hexdigest()\n",
    "\n",
    "sTree = shelve.open(\"tree\", writeback = True)\n",
    "seed = sTree['seed'] \n",
    "curr_key = 'R'\n",
    "c = curr_key\n",
    "h = getHash(c)\n",
    "gfilename = 'g_'+h+'.gro'\n",
    "mfile = h + '.gro'\n",
    "mfilename ='m_'+ mfile\n",
    "print('key: ',c)\n",
    "print(gfilename,'\\n',mfilename)\n",
    "children = getChildrenKeys(curr_key,seed)\n",
    "for c in children:\n",
    "    currNode = c\n",
    "    if c in sTree.keys():\n",
    "        h = getHash(c)\n",
    "        gfilename = 'g_'+h+'.gro'\n",
    "        mfile = getHash(c) + '.gro'\n",
    "        mfilename ='m_'+ mfile\n",
    "        print('key: ',c)\n",
    "        print(gfilename,'\\n',mfilename)\n",
    "\n",
    "sTree.close()"
   ]
  }
 ],
 "metadata": {
  "kernelspec": {
   "display_name": "Python 3 (ipykernel)",
   "language": "python",
   "name": "python3"
  },
  "language_info": {
   "codemirror_mode": {
    "name": "ipython",
    "version": 3
   },
   "file_extension": ".py",
   "mimetype": "text/x-python",
   "name": "python",
   "nbconvert_exporter": "python",
   "pygments_lexer": "ipython3",
   "version": "3.10.5"
  }
 },
 "nbformat": 4,
 "nbformat_minor": 5
}
